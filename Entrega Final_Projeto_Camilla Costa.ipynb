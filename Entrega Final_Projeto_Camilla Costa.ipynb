{
 "cells": [
  {
   "cell_type": "code",
   "execution_count": 3,
   "metadata": {},
   "outputs": [],
   "source": [
    "import numpy as np\n",
    "import pandas as pd\n",
    "import requests \n",
    "from plyer import notification\n"
   ]
  },
  {
   "cell_type": "code",
   "execution_count": 4,
   "metadata": {},
   "outputs": [],
   "source": [
    "def alerta(nivel, dado):\n",
    "    \n",
    "    # Condicional para nível do alerta\n",
    "    if nivel == 400:\n",
    "        msg_alerta = 'Bad Request'\n",
    "    elif nivel == 401:\n",
    "        msg_alerta = 'Unauthorized'\n",
    "    elif nivel == 403:\n",
    "        msg_alerta = 'Forbidden'\n",
    "    elif nivel == 404:\n",
    "        msg_alerta = 'Not Found'\n",
    "    elif nivel == 409:\n",
    "        msg_alerta = 'Conflict'                   \n",
    "    else:\n",
    "        msg_alerta = f'Error {nivel}'\n",
    "\n",
    "    # Mensagem de alerta\n",
    "    texto = f'Falha no carregamento do {dado}'\n",
    "\n",
    "     # Gerando o alerta\n",
    "    notification.notify ( \n",
    "        title = msg_alerta,\n",
    "        message = texto,\n",
    "        app_name='App Fictício',\n",
    "        timeout=10  \n",
    "    )\n"
   ]
  },
  {
   "cell_type": "markdown",
   "metadata": {},
   "source": [
    "## Base CEP"
   ]
  },
  {
   "cell_type": "code",
   "execution_count": 5,
   "metadata": {},
   "outputs": [
    {
     "name": "stderr",
     "output_type": "stream",
     "text": [
      "C:\\Users\\A0116002\\AppData\\Roaming\\Python\\Python312\\site-packages\\urllib3\\connectionpool.py:1099: InsecureRequestWarning: Unverified HTTPS request is being made to host 'brasilapi.com.br'. Adding certificate verification is strongly advised. See: https://urllib3.readthedocs.io/en/latest/advanced-usage.html#tls-warnings\n",
      "  warnings.warn(\n",
      "C:\\Users\\A0116002\\AppData\\Roaming\\Python\\Python312\\site-packages\\urllib3\\connectionpool.py:1099: InsecureRequestWarning: Unverified HTTPS request is being made to host 'brasilapi.com.br'. Adding certificate verification is strongly advised. See: https://urllib3.readthedocs.io/en/latest/advanced-usage.html#tls-warnings\n",
      "  warnings.warn(\n",
      "C:\\Users\\A0116002\\AppData\\Roaming\\Python\\Python312\\site-packages\\urllib3\\connectionpool.py:1099: InsecureRequestWarning: Unverified HTTPS request is being made to host 'brasilapi.com.br'. Adding certificate verification is strongly advised. See: https://urllib3.readthedocs.io/en/latest/advanced-usage.html#tls-warnings\n",
      "  warnings.warn(\n"
     ]
    },
    {
     "data": {
      "text/plain": [
       "'41720060'"
      ]
     },
     "execution_count": 5,
     "metadata": {},
     "output_type": "execute_result"
    }
   ],
   "source": [
    "ceps = ['41720060', '09715022', '22222222']\n",
    "# url = f'https://brasilapi.com.br/api/cep/v1/{ceps}'\n",
    "responses = list()\n",
    "for cep in ceps:\n",
    "    url = f'https://brasilapi.com.br/api/cep/v1/{cep}'\n",
    "    response = requests.get(url,verify=False)\n",
    "    responses.append(response)\n",
    "\n",
    "ceps [0]"
   ]
  },
  {
   "cell_type": "code",
   "execution_count": 7,
   "metadata": {},
   "outputs": [
    {
     "data": {
      "text/html": [
       "<div>\n",
       "<style scoped>\n",
       "    .dataframe tbody tr th:only-of-type {\n",
       "        vertical-align: middle;\n",
       "    }\n",
       "\n",
       "    .dataframe tbody tr th {\n",
       "        vertical-align: top;\n",
       "    }\n",
       "\n",
       "    .dataframe thead th {\n",
       "        text-align: right;\n",
       "    }\n",
       "</style>\n",
       "<table border=\"1\" class=\"dataframe\">\n",
       "  <thead>\n",
       "    <tr style=\"text-align: right;\">\n",
       "      <th></th>\n",
       "      <th>CEP</th>\n",
       "      <th>Estado</th>\n",
       "      <th>Cidade</th>\n",
       "      <th>Bairro</th>\n",
       "      <th>Rua</th>\n",
       "      <th>Serviço</th>\n",
       "    </tr>\n",
       "  </thead>\n",
       "  <tbody>\n",
       "    <tr>\n",
       "      <th>0</th>\n",
       "      <td>41720060</td>\n",
       "      <td>BA</td>\n",
       "      <td>Salvador</td>\n",
       "      <td>Imbuí</td>\n",
       "      <td>Rua dos Colibris</td>\n",
       "      <td>open-cep</td>\n",
       "    </tr>\n",
       "    <tr>\n",
       "      <th>0</th>\n",
       "      <td>09715022</td>\n",
       "      <td>SP</td>\n",
       "      <td>São Bernardo do Campo</td>\n",
       "      <td>Centro</td>\n",
       "      <td>Rua Américo Brasiliense</td>\n",
       "      <td>open-cep</td>\n",
       "    </tr>\n",
       "  </tbody>\n",
       "</table>\n",
       "</div>"
      ],
      "text/plain": [
       "        CEP Estado                 Cidade  Bairro                      Rua  \\\n",
       "0  41720060     BA               Salvador   Imbuí         Rua dos Colibris   \n",
       "0  09715022     SP  São Bernardo do Campo  Centro  Rua Américo Brasiliense   \n",
       "\n",
       "    Serviço  \n",
       "0  open-cep  \n",
       "0  open-cep  "
      ]
     },
     "execution_count": 7,
     "metadata": {},
     "output_type": "execute_result"
    }
   ],
   "source": [
    "df_full = pd.DataFrame(\n",
    "    {\n",
    "        'CEP': [np.nan],\n",
    "        'Estado': [np.nan],\n",
    "        'Cidade': [np.nan],\n",
    "        'Bairro': [np.nan],\n",
    "        'Rua': [np.nan],\n",
    "        'Serviço': [np.nan],\n",
    "    }\n",
    ")\n",
    "for n in range(len(responses)):\n",
    "    ## PARSE\n",
    "    if responses[n].status_code == 200:\n",
    "        data = responses[n].json()\n",
    "        df = pd.DataFrame(\n",
    "            {\n",
    "                'CEP': [data['cep']],\n",
    "                'Estado': [data['state']],\n",
    "                'Cidade': [data['city']],\n",
    "                'Bairro': [data['neighborhood']],\n",
    "                'Rua': [data['street']],\n",
    "                'Serviço': [data['service']],\n",
    "            }\n",
    "        )\n",
    "        df_full = pd.concat([df_full, df])\n",
    "    else:\n",
    "        #data = responses[n].json()\n",
    "        nivel = responses[n].status_code\n",
    "        dado= f'CEP: {ceps[n]}'\n",
    "        alerta(nivel, dado)\n",
    "\n",
    "df_full = df_full.dropna()\n",
    "\n",
    "TabelaCEP=pd.DataFrame(df_full)\n",
    "TabelaCEP"
   ]
  },
  {
   "cell_type": "markdown",
   "metadata": {},
   "source": [
    "## Base Banco\n"
   ]
  },
  {
   "cell_type": "code",
   "execution_count": 14,
   "metadata": {},
   "outputs": [
    {
     "name": "stderr",
     "output_type": "stream",
     "text": [
      "C:\\Users\\A0116002\\AppData\\Roaming\\Python\\Python312\\site-packages\\urllib3\\connectionpool.py:1099: InsecureRequestWarning: Unverified HTTPS request is being made to host 'brasilapi.com.br'. Adding certificate verification is strongly advised. See: https://urllib3.readthedocs.io/en/latest/advanced-usage.html#tls-warnings\n",
      "  warnings.warn(\n"
     ]
    },
    {
     "data": {
      "text/html": [
       "<div>\n",
       "<style scoped>\n",
       "    .dataframe tbody tr th:only-of-type {\n",
       "        vertical-align: middle;\n",
       "    }\n",
       "\n",
       "    .dataframe tbody tr th {\n",
       "        vertical-align: top;\n",
       "    }\n",
       "\n",
       "    .dataframe thead th {\n",
       "        text-align: right;\n",
       "    }\n",
       "</style>\n",
       "<table border=\"1\" class=\"dataframe\">\n",
       "  <thead>\n",
       "    <tr style=\"text-align: right;\">\n",
       "      <th></th>\n",
       "      <th>ispb</th>\n",
       "      <th>name</th>\n",
       "      <th>code</th>\n",
       "      <th>fullName</th>\n",
       "    </tr>\n",
       "  </thead>\n",
       "  <tbody>\n",
       "    <tr>\n",
       "      <th>0</th>\n",
       "      <td>00000000</td>\n",
       "      <td>BCO DO BRASIL S.A.</td>\n",
       "      <td>1.0</td>\n",
       "      <td>Banco do Brasil S.A.</td>\n",
       "    </tr>\n",
       "    <tr>\n",
       "      <th>1</th>\n",
       "      <td>00000208</td>\n",
       "      <td>BRB - BCO DE BRASILIA S.A.</td>\n",
       "      <td>70.0</td>\n",
       "      <td>BRB - BANCO DE BRASILIA S.A.</td>\n",
       "    </tr>\n",
       "    <tr>\n",
       "      <th>2</th>\n",
       "      <td>00038121</td>\n",
       "      <td>Selic</td>\n",
       "      <td>NaN</td>\n",
       "      <td>Banco Central do Brasil - Selic</td>\n",
       "    </tr>\n",
       "    <tr>\n",
       "      <th>3</th>\n",
       "      <td>00038166</td>\n",
       "      <td>Bacen</td>\n",
       "      <td>NaN</td>\n",
       "      <td>Banco Central do Brasil</td>\n",
       "    </tr>\n",
       "    <tr>\n",
       "      <th>4</th>\n",
       "      <td>00122327</td>\n",
       "      <td>SANTINVEST S.A. - CFI</td>\n",
       "      <td>539.0</td>\n",
       "      <td>SANTINVEST S.A. - CREDITO, FINANCIAMENTO E INV...</td>\n",
       "    </tr>\n",
       "  </tbody>\n",
       "</table>\n",
       "</div>"
      ],
      "text/plain": [
       "       ispb                        name   code  \\\n",
       "0  00000000          BCO DO BRASIL S.A.    1.0   \n",
       "1  00000208  BRB - BCO DE BRASILIA S.A.   70.0   \n",
       "2  00038121                       Selic    NaN   \n",
       "3  00038166                       Bacen    NaN   \n",
       "4  00122327       SANTINVEST S.A. - CFI  539.0   \n",
       "\n",
       "                                            fullName  \n",
       "0                               Banco do Brasil S.A.  \n",
       "1                       BRB - BANCO DE BRASILIA S.A.  \n",
       "2                    Banco Central do Brasil - Selic  \n",
       "3                            Banco Central do Brasil  \n",
       "4  SANTINVEST S.A. - CREDITO, FINANCIAMENTO E INV...  "
      ]
     },
     "execution_count": 14,
     "metadata": {},
     "output_type": "execute_result"
    }
   ],
   "source": [
    "#Pegando amostras de bancos\n",
    "urlt = 'https://brasilapi.com.br/api/banks/v1'\n",
    "bancos = requests.get(urlt,verify=False)\n",
    "bancos_data= bancos.json()\n",
    "pd.DataFrame(bancos_data).head(5)"
   ]
  },
  {
   "cell_type": "code",
   "execution_count": 15,
   "metadata": {},
   "outputs": [
    {
     "name": "stderr",
     "output_type": "stream",
     "text": [
      "C:\\Users\\A0116002\\AppData\\Roaming\\Python\\Python312\\site-packages\\urllib3\\connectionpool.py:1099: InsecureRequestWarning: Unverified HTTPS request is being made to host 'brasilapi.com.br'. Adding certificate verification is strongly advised. See: https://urllib3.readthedocs.io/en/latest/advanced-usage.html#tls-warnings\n",
      "  warnings.warn(\n",
      "C:\\Users\\A0116002\\AppData\\Roaming\\Python\\Python312\\site-packages\\urllib3\\connectionpool.py:1099: InsecureRequestWarning: Unverified HTTPS request is being made to host 'brasilapi.com.br'. Adding certificate verification is strongly advised. See: https://urllib3.readthedocs.io/en/latest/advanced-usage.html#tls-warnings\n",
      "  warnings.warn(\n",
      "C:\\Users\\A0116002\\AppData\\Roaming\\Python\\Python312\\site-packages\\urllib3\\connectionpool.py:1099: InsecureRequestWarning: Unverified HTTPS request is being made to host 'brasilapi.com.br'. Adding certificate verification is strongly advised. See: https://urllib3.readthedocs.io/en/latest/advanced-usage.html#tls-warnings\n",
      "  warnings.warn(\n"
     ]
    },
    {
     "data": {
      "text/plain": [
       "'70'"
      ]
     },
     "execution_count": 15,
     "metadata": {},
     "output_type": "execute_result"
    }
   ],
   "source": [
    "codes = ['1', '70', '98999']\n",
    "responses2 = list()\n",
    "for code in codes:\n",
    "    url = f'https://brasilapi.com.br/api/banks/v1/{code}'\n",
    "    response2 = requests.get(url,verify=False)\n",
    "    responses2.append(response2)\n",
    "\n",
    "responses2\n",
    "codes[1]"
   ]
  },
  {
   "cell_type": "code",
   "execution_count": 16,
   "metadata": {},
   "outputs": [
    {
     "data": {
      "text/html": [
       "<div>\n",
       "<style scoped>\n",
       "    .dataframe tbody tr th:only-of-type {\n",
       "        vertical-align: middle;\n",
       "    }\n",
       "\n",
       "    .dataframe tbody tr th {\n",
       "        vertical-align: top;\n",
       "    }\n",
       "\n",
       "    .dataframe thead th {\n",
       "        text-align: right;\n",
       "    }\n",
       "</style>\n",
       "<table border=\"1\" class=\"dataframe\">\n",
       "  <thead>\n",
       "    <tr style=\"text-align: right;\">\n",
       "      <th></th>\n",
       "      <th>ISPB</th>\n",
       "      <th>Nome</th>\n",
       "      <th>Código</th>\n",
       "      <th>Nome completo</th>\n",
       "    </tr>\n",
       "  </thead>\n",
       "  <tbody>\n",
       "    <tr>\n",
       "      <th>0</th>\n",
       "      <td>00000000</td>\n",
       "      <td>BCO DO BRASIL S.A.</td>\n",
       "      <td>1.0</td>\n",
       "      <td>Banco do Brasil S.A.</td>\n",
       "    </tr>\n",
       "    <tr>\n",
       "      <th>0</th>\n",
       "      <td>00000208</td>\n",
       "      <td>BRB - BCO DE BRASILIA S.A.</td>\n",
       "      <td>70.0</td>\n",
       "      <td>BRB - BANCO DE BRASILIA S.A.</td>\n",
       "    </tr>\n",
       "  </tbody>\n",
       "</table>\n",
       "</div>"
      ],
      "text/plain": [
       "       ISPB                        Nome  Código                 Nome completo\n",
       "0  00000000          BCO DO BRASIL S.A.     1.0          Banco do Brasil S.A.\n",
       "0  00000208  BRB - BCO DE BRASILIA S.A.    70.0  BRB - BANCO DE BRASILIA S.A."
      ]
     },
     "execution_count": 16,
     "metadata": {},
     "output_type": "execute_result"
    }
   ],
   "source": [
    "df2_full = pd.DataFrame(\n",
    "    {\n",
    "        'ISPB': [np.nan],\n",
    "        'Nome': [np.nan],\n",
    "        'Código': [np.nan],\n",
    "        'Nome completo': [np.nan],\n",
    "    }\n",
    ")\n",
    "for n in range(len(responses2)):\n",
    "    ## PARSE\n",
    "    if responses2[n].status_code == 200:\n",
    "        data2 = responses2[n].json()\n",
    "        df2 = pd.DataFrame(\n",
    "            {\n",
    "                'ISPB': [data2['ispb']],\n",
    "                'Nome': [data2['name']],\n",
    "                'Código': [data2['code']],\n",
    "                'Nome completo': [data2['fullName']],                               \n",
    "            }\n",
    "        )\n",
    "        df2_full = pd.concat([df2_full, df2])\n",
    "    else:\n",
    "        nivel = responses2[n].status_code\n",
    "        dado= f'Código: {codes[n]}'\n",
    "        alerta(nivel, dado)\n",
    "\n",
    "df2_full = df2_full.dropna()\n",
    "\n",
    "TabelaBanco=pd.DataFrame(df2_full)\n",
    "TabelaBanco"
   ]
  },
  {
   "cell_type": "markdown",
   "metadata": {},
   "source": [
    "## Base CNPJ"
   ]
  },
  {
   "cell_type": "code",
   "execution_count": 19,
   "metadata": {},
   "outputs": [
    {
     "name": "stderr",
     "output_type": "stream",
     "text": [
      "C:\\Users\\A0116002\\AppData\\Roaming\\Python\\Python312\\site-packages\\urllib3\\connectionpool.py:1099: InsecureRequestWarning: Unverified HTTPS request is being made to host 'brasilapi.com.br'. Adding certificate verification is strongly advised. See: https://urllib3.readthedocs.io/en/latest/advanced-usage.html#tls-warnings\n",
      "  warnings.warn(\n",
      "C:\\Users\\A0116002\\AppData\\Roaming\\Python\\Python312\\site-packages\\urllib3\\connectionpool.py:1099: InsecureRequestWarning: Unverified HTTPS request is being made to host 'brasilapi.com.br'. Adding certificate verification is strongly advised. See: https://urllib3.readthedocs.io/en/latest/advanced-usage.html#tls-warnings\n",
      "  warnings.warn(\n",
      "C:\\Users\\A0116002\\AppData\\Roaming\\Python\\Python312\\site-packages\\urllib3\\connectionpool.py:1099: InsecureRequestWarning: Unverified HTTPS request is being made to host 'brasilapi.com.br'. Adding certificate verification is strongly advised. See: https://urllib3.readthedocs.io/en/latest/advanced-usage.html#tls-warnings\n",
      "  warnings.warn(\n"
     ]
    }
   ],
   "source": [
    "cnpjs = ['33041260065290', '47960950000121', '22222222']\n",
    "responses3 = list()\n",
    "for cnpj in cnpjs:\n",
    "    url = f'https://brasilapi.com.br/api/cnpj/v1/{cnpj}'\n",
    "    response3 = requests.get(url,verify=False)\n",
    "    responses3.append(response3)\n",
    "\n",
    "#VERIFIQUEI AS COLUNAS NA AMOSTRA APRESENTADA NO SITE"
   ]
  },
  {
   "cell_type": "code",
   "execution_count": 85,
   "metadata": {},
   "outputs": [
    {
     "data": {
      "text/plain": [
       "[<Response [200]>, <Response [200]>, <Response [400]>]"
      ]
     },
     "execution_count": 85,
     "metadata": {},
     "output_type": "execute_result"
    }
   ],
   "source": [
    "responses3"
   ]
  },
  {
   "cell_type": "code",
   "execution_count": 20,
   "metadata": {},
   "outputs": [
    {
     "data": {
      "text/html": [
       "<div>\n",
       "<style scoped>\n",
       "    .dataframe tbody tr th:only-of-type {\n",
       "        vertical-align: middle;\n",
       "    }\n",
       "\n",
       "    .dataframe tbody tr th {\n",
       "        vertical-align: top;\n",
       "    }\n",
       "\n",
       "    .dataframe thead th {\n",
       "        text-align: right;\n",
       "    }\n",
       "</style>\n",
       "<table border=\"1\" class=\"dataframe\">\n",
       "  <thead>\n",
       "    <tr style=\"text-align: right;\">\n",
       "      <th></th>\n",
       "      <th>CNPJ</th>\n",
       "      <th>Razão Social</th>\n",
       "      <th>Nome Fantasia</th>\n",
       "      <th>CEP</th>\n",
       "      <th>Telefone</th>\n",
       "    </tr>\n",
       "  </thead>\n",
       "  <tbody>\n",
       "    <tr>\n",
       "      <th>0</th>\n",
       "      <td>33041260065290</td>\n",
       "      <td>GRUPO CASAS BAHIA S.A.</td>\n",
       "      <td></td>\n",
       "      <td>05425070</td>\n",
       "      <td>1142256555</td>\n",
       "    </tr>\n",
       "    <tr>\n",
       "      <th>0</th>\n",
       "      <td>47960950000121</td>\n",
       "      <td>MAGAZINE LUIZA S/A</td>\n",
       "      <td>MAGAZINE LUIZA</td>\n",
       "      <td>14400490</td>\n",
       "      <td>1637112002</td>\n",
       "    </tr>\n",
       "  </tbody>\n",
       "</table>\n",
       "</div>"
      ],
      "text/plain": [
       "             CNPJ            Razão Social   Nome Fantasia       CEP  \\\n",
       "0  33041260065290  GRUPO CASAS BAHIA S.A.                  05425070   \n",
       "0  47960950000121      MAGAZINE LUIZA S/A  MAGAZINE LUIZA  14400490   \n",
       "\n",
       "     Telefone  \n",
       "0  1142256555  \n",
       "0  1637112002  "
      ]
     },
     "execution_count": 20,
     "metadata": {},
     "output_type": "execute_result"
    }
   ],
   "source": [
    "df3_full = pd.DataFrame(\n",
    "    {\n",
    "        'CNPJ': [np.nan],\n",
    "        'Razão Social': [np.nan],\n",
    "        'Nome Fantasia': [np.nan],\n",
    "        'CEP': [np.nan],\n",
    "        'Telefone': [np.nan],\n",
    "    }\n",
    ")\n",
    "for n in range(len(responses3)):\n",
    "    ## PARSE\n",
    "    if responses3[n].status_code == 200:\n",
    "        data3 = responses3[n].json()\n",
    "        df3 = pd.DataFrame(\n",
    "            {\n",
    "                'CNPJ': [data3['cnpj']],\n",
    "                'Razão Social': [data3['razao_social']],\n",
    "                'Nome Fantasia': [data3['nome_fantasia']],\n",
    "                'CEP': [data3['cep']], \n",
    "                'Telefone': [data3['ddd_telefone_1']],                            \n",
    "            }\n",
    "        )\n",
    "        df3_full = pd.concat([df3_full, df3])\n",
    "    else:\n",
    "        nivel = responses3[n].status_code\n",
    "        dado= f'Código: {cnpjs[n]}'\n",
    "        alerta(nivel, dado)\n",
    "\n",
    "df3_full = df3_full.dropna()\n",
    "\n",
    "TabelaCNPJ=pd.DataFrame(df3_full)\n",
    "TabelaCNPJ"
   ]
  },
  {
   "cell_type": "markdown",
   "metadata": {},
   "source": [
    "## Banco de Dados\n",
    " "
   ]
  },
  {
   "cell_type": "code",
   "execution_count": 9,
   "metadata": {},
   "outputs": [],
   "source": [
    "import sqlite3\n",
    "def tabelas_bd():\n",
    "    '''\n",
    "        Retorna um dataframe com as tabelas do banco de dados.\n",
    "    '''\n",
    "    conn = sqlite3.connect('coderhouse.db')\n",
    "\n",
    "    # Executar uma consulta que retorna as informações do esquema do banco de dados\n",
    "    query = \"SELECT name FROM sqlite_master WHERE type='table'\"\n",
    "    schema = pd.read_sql_query(query, conn)\n",
    "\n",
    "    conn.close()\n",
    "\n",
    "    return schema\n",
    "def salva_bd(df, nome_tabela):\n",
    "    '''\n",
    "        Salva dataframe df na tabela nome_tabela.\n",
    "    '''\n",
    "    conn = sqlite3.connect('coderhouse.db')\n",
    "\n",
    "    # Escrever o DataFrame na tabela 'nome_tabela'\n",
    "    df.to_sql(nome_tabela, conn, if_exists='replace', index=False)\n",
    "\n",
    "    conn.close()\n",
    "\n",
    "    return True\n",
    "def carrega_bd(nome_tabela):\n",
    "    '''\n",
    "        Carrega tabela nome_tabela num dataframe. \n",
    "    '''\n",
    "    conn = sqlite3.connect('coderhouse.db')\n",
    "\n",
    "    # Executar uma consulta SELECT na tabela 'produtos' e converter em um DataFrame\n",
    "    query = f\"SELECT * FROM {nome_tabela}\"\n",
    "    df = pd.read_sql(query, conn)\n",
    "\n",
    "    conn.close()\n",
    "\n",
    "    return df"
   ]
  },
  {
   "cell_type": "code",
   "execution_count": 23,
   "metadata": {},
   "outputs": [
    {
     "data": {
      "text/html": [
       "<div>\n",
       "<style scoped>\n",
       "    .dataframe tbody tr th:only-of-type {\n",
       "        vertical-align: middle;\n",
       "    }\n",
       "\n",
       "    .dataframe tbody tr th {\n",
       "        vertical-align: top;\n",
       "    }\n",
       "\n",
       "    .dataframe thead th {\n",
       "        text-align: right;\n",
       "    }\n",
       "</style>\n",
       "<table border=\"1\" class=\"dataframe\">\n",
       "  <thead>\n",
       "    <tr style=\"text-align: right;\">\n",
       "      <th></th>\n",
       "      <th>CEP</th>\n",
       "      <th>Estado</th>\n",
       "      <th>Cidade</th>\n",
       "      <th>Bairro</th>\n",
       "      <th>Rua</th>\n",
       "      <th>Serviço</th>\n",
       "    </tr>\n",
       "  </thead>\n",
       "  <tbody>\n",
       "    <tr>\n",
       "      <th>0</th>\n",
       "      <td>41720060</td>\n",
       "      <td>BA</td>\n",
       "      <td>Salvador</td>\n",
       "      <td>Imbuí</td>\n",
       "      <td>Rua dos Colibris</td>\n",
       "      <td>open-cep</td>\n",
       "    </tr>\n",
       "    <tr>\n",
       "      <th>1</th>\n",
       "      <td>09715022</td>\n",
       "      <td>SP</td>\n",
       "      <td>São Bernardo do Campo</td>\n",
       "      <td>Centro</td>\n",
       "      <td>Rua Américo Brasiliense</td>\n",
       "      <td>open-cep</td>\n",
       "    </tr>\n",
       "  </tbody>\n",
       "</table>\n",
       "</div>"
      ],
      "text/plain": [
       "        CEP Estado                 Cidade  Bairro                      Rua  \\\n",
       "0  41720060     BA               Salvador   Imbuí         Rua dos Colibris   \n",
       "1  09715022     SP  São Bernardo do Campo  Centro  Rua Américo Brasiliense   \n",
       "\n",
       "    Serviço  \n",
       "0  open-cep  \n",
       "1  open-cep  "
      ]
     },
     "execution_count": 23,
     "metadata": {},
     "output_type": "execute_result"
    }
   ],
   "source": [
    "## Salvando Tabela CEP no Banco de Dados\n",
    "\n",
    "nome_tabela = 'TabelaCEP'\n",
    "salva_bd(TabelaCEP, nome_tabela)\n",
    "carrega_bd(nome_tabela)"
   ]
  },
  {
   "cell_type": "code",
   "execution_count": 24,
   "metadata": {},
   "outputs": [
    {
     "data": {
      "text/html": [
       "<div>\n",
       "<style scoped>\n",
       "    .dataframe tbody tr th:only-of-type {\n",
       "        vertical-align: middle;\n",
       "    }\n",
       "\n",
       "    .dataframe tbody tr th {\n",
       "        vertical-align: top;\n",
       "    }\n",
       "\n",
       "    .dataframe thead th {\n",
       "        text-align: right;\n",
       "    }\n",
       "</style>\n",
       "<table border=\"1\" class=\"dataframe\">\n",
       "  <thead>\n",
       "    <tr style=\"text-align: right;\">\n",
       "      <th></th>\n",
       "      <th>ISPB</th>\n",
       "      <th>Nome</th>\n",
       "      <th>Código</th>\n",
       "      <th>Nome completo</th>\n",
       "    </tr>\n",
       "  </thead>\n",
       "  <tbody>\n",
       "    <tr>\n",
       "      <th>0</th>\n",
       "      <td>00000000</td>\n",
       "      <td>BCO DO BRASIL S.A.</td>\n",
       "      <td>1.0</td>\n",
       "      <td>Banco do Brasil S.A.</td>\n",
       "    </tr>\n",
       "    <tr>\n",
       "      <th>1</th>\n",
       "      <td>00000208</td>\n",
       "      <td>BRB - BCO DE BRASILIA S.A.</td>\n",
       "      <td>70.0</td>\n",
       "      <td>BRB - BANCO DE BRASILIA S.A.</td>\n",
       "    </tr>\n",
       "  </tbody>\n",
       "</table>\n",
       "</div>"
      ],
      "text/plain": [
       "       ISPB                        Nome  Código                 Nome completo\n",
       "0  00000000          BCO DO BRASIL S.A.     1.0          Banco do Brasil S.A.\n",
       "1  00000208  BRB - BCO DE BRASILIA S.A.    70.0  BRB - BANCO DE BRASILIA S.A."
      ]
     },
     "execution_count": 24,
     "metadata": {},
     "output_type": "execute_result"
    }
   ],
   "source": [
    "## Salvando Tabela Banco no Banco de Dados\n",
    "\n",
    "nome_tabela = 'TabelaBanco'\n",
    "salva_bd(TabelaBanco, nome_tabela)\n",
    "carrega_bd(nome_tabela)"
   ]
  },
  {
   "cell_type": "code",
   "execution_count": 25,
   "metadata": {},
   "outputs": [
    {
     "data": {
      "text/html": [
       "<div>\n",
       "<style scoped>\n",
       "    .dataframe tbody tr th:only-of-type {\n",
       "        vertical-align: middle;\n",
       "    }\n",
       "\n",
       "    .dataframe tbody tr th {\n",
       "        vertical-align: top;\n",
       "    }\n",
       "\n",
       "    .dataframe thead th {\n",
       "        text-align: right;\n",
       "    }\n",
       "</style>\n",
       "<table border=\"1\" class=\"dataframe\">\n",
       "  <thead>\n",
       "    <tr style=\"text-align: right;\">\n",
       "      <th></th>\n",
       "      <th>CNPJ</th>\n",
       "      <th>Razão Social</th>\n",
       "      <th>Nome Fantasia</th>\n",
       "      <th>CEP</th>\n",
       "      <th>Telefone</th>\n",
       "    </tr>\n",
       "  </thead>\n",
       "  <tbody>\n",
       "    <tr>\n",
       "      <th>0</th>\n",
       "      <td>33041260065290</td>\n",
       "      <td>GRUPO CASAS BAHIA S.A.</td>\n",
       "      <td></td>\n",
       "      <td>05425070</td>\n",
       "      <td>1142256555</td>\n",
       "    </tr>\n",
       "    <tr>\n",
       "      <th>1</th>\n",
       "      <td>47960950000121</td>\n",
       "      <td>MAGAZINE LUIZA S/A</td>\n",
       "      <td>MAGAZINE LUIZA</td>\n",
       "      <td>14400490</td>\n",
       "      <td>1637112002</td>\n",
       "    </tr>\n",
       "  </tbody>\n",
       "</table>\n",
       "</div>"
      ],
      "text/plain": [
       "             CNPJ            Razão Social   Nome Fantasia       CEP  \\\n",
       "0  33041260065290  GRUPO CASAS BAHIA S.A.                  05425070   \n",
       "1  47960950000121      MAGAZINE LUIZA S/A  MAGAZINE LUIZA  14400490   \n",
       "\n",
       "     Telefone  \n",
       "0  1142256555  \n",
       "1  1637112002  "
      ]
     },
     "execution_count": 25,
     "metadata": {},
     "output_type": "execute_result"
    }
   ],
   "source": [
    "## Salvando Tabela CNPJ no Banco de Dados\n",
    "\n",
    "nome_tabela = 'TabelaCNPJ'\n",
    "salva_bd(TabelaCNPJ, nome_tabela)\n",
    "carrega_bd(nome_tabela)"
   ]
  },
  {
   "cell_type": "code",
   "execution_count": 26,
   "metadata": {},
   "outputs": [
    {
     "data": {
      "text/html": [
       "<div>\n",
       "<style scoped>\n",
       "    .dataframe tbody tr th:only-of-type {\n",
       "        vertical-align: middle;\n",
       "    }\n",
       "\n",
       "    .dataframe tbody tr th {\n",
       "        vertical-align: top;\n",
       "    }\n",
       "\n",
       "    .dataframe thead th {\n",
       "        text-align: right;\n",
       "    }\n",
       "</style>\n",
       "<table border=\"1\" class=\"dataframe\">\n",
       "  <thead>\n",
       "    <tr style=\"text-align: right;\">\n",
       "      <th></th>\n",
       "      <th>name</th>\n",
       "    </tr>\n",
       "  </thead>\n",
       "  <tbody>\n",
       "    <tr>\n",
       "      <th>0</th>\n",
       "      <td>produtos</td>\n",
       "    </tr>\n",
       "    <tr>\n",
       "      <th>1</th>\n",
       "      <td>fastfood</td>\n",
       "    </tr>\n",
       "    <tr>\n",
       "      <th>2</th>\n",
       "      <td>Nova_Tabela</td>\n",
       "    </tr>\n",
       "    <tr>\n",
       "      <th>3</th>\n",
       "      <td>Tabela_FastFood</td>\n",
       "    </tr>\n",
       "    <tr>\n",
       "      <th>4</th>\n",
       "      <td>Teste</td>\n",
       "    </tr>\n",
       "    <tr>\n",
       "      <th>5</th>\n",
       "      <td>TabelaCEP</td>\n",
       "    </tr>\n",
       "    <tr>\n",
       "      <th>6</th>\n",
       "      <td>TabelaBanco</td>\n",
       "    </tr>\n",
       "    <tr>\n",
       "      <th>7</th>\n",
       "      <td>TabelaCNPJ</td>\n",
       "    </tr>\n",
       "  </tbody>\n",
       "</table>\n",
       "</div>"
      ],
      "text/plain": [
       "              name\n",
       "0         produtos\n",
       "1         fastfood\n",
       "2      Nova_Tabela\n",
       "3  Tabela_FastFood\n",
       "4            Teste\n",
       "5        TabelaCEP\n",
       "6      TabelaBanco\n",
       "7       TabelaCNPJ"
      ]
     },
     "execution_count": 26,
     "metadata": {},
     "output_type": "execute_result"
    }
   ],
   "source": [
    "tabelas_bd()"
   ]
  }
 ],
 "metadata": {
  "kernelspec": {
   "display_name": "Python 3",
   "language": "python",
   "name": "python3"
  },
  "language_info": {
   "codemirror_mode": {
    "name": "ipython",
    "version": 3
   },
   "file_extension": ".py",
   "mimetype": "text/x-python",
   "name": "python",
   "nbconvert_exporter": "python",
   "pygments_lexer": "ipython3",
   "version": "3.12.1"
  }
 },
 "nbformat": 4,
 "nbformat_minor": 2
}
